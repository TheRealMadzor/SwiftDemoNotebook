{
 "metadata": {
  "kernelspec": {
   "codemirror_mode": {
    "name": "python",
    "version": 2
   },
   "display_name": "Python 2",
   "language": "python",
   "name": "python2"
  },
  "name": "",
  "signature": "sha256:bea1f06cd7f706bf2d2c1f36ba72b8a625480a87c3a5bc60e1dfb133fa43437b"
 },
 "nbformat": 3,
 "nbformat_minor": 0,
 "worksheets": [
  {
   "cells": [
    {
     "cell_type": "code",
     "collapsed": false,
     "input": [
      "import os\n",
      "import swiftclient.client"
     ],
     "language": "python",
     "metadata": {},
     "outputs": [],
     "prompt_number": 1
    },
    {
     "cell_type": "code",
     "collapsed": false,
     "input": [
      "config = {'user':os.environ['OS_USERNAME'], \n",
      "          'key':os.environ['OS_PASSWORD'],\n",
      "          'tenant_name':os.environ['OS_TENANT_NAME'],\n",
      "          'authurl':os.environ['OS_AUTH_URL']}\n",
      "conn = swiftclient.client.Connection(auth_version=2, **config)"
     ],
     "language": "python",
     "metadata": {},
     "outputs": [],
     "prompt_number": 2
    },
    {
     "cell_type": "code",
     "collapsed": false,
     "input": [
      "# Create a container\n",
      "conn.put_container(\"test_bucket_ah\")"
     ],
     "language": "python",
     "metadata": {},
     "outputs": [],
     "prompt_number": 3
    },
    {
     "cell_type": "code",
     "collapsed": false,
     "input": [
      "# List containers\n",
      "(response, bucket_list) = conn.get_account()\n",
      "for bucket in bucket_list:\n",
      "    print bucket['name']"
     ],
     "language": "python",
     "metadata": {},
     "outputs": [
      {
       "output_type": "stream",
       "stream": "stdout",
       "text": [
        "GenomeData\n",
        "molns_storage_04c59c75-6602-449d-bc8a-61cb382560b1\n",
        "test_bucket_ah\n"
       ]
      }
     ],
     "prompt_number": 4
    },
    {
     "cell_type": "code",
     "collapsed": false,
     "input": [
      "# Put an object in the container\n",
      "conn.put_object('test_bucket_ah', \"test_object\", \"Hi Swift\")"
     ],
     "language": "python",
     "metadata": {},
     "outputs": [
      {
       "metadata": {},
       "output_type": "pyout",
       "prompt_number": 5,
       "text": [
        "'d32f4f0bf23973a95e03c1d3af2ac1e0'"
       ]
      }
     ],
     "prompt_number": 5
    },
    {
     "cell_type": "code",
     "collapsed": false,
     "input": [
      "(response, obj_list) = conn.get_container('test_bucket_ah')\n",
      "for obj in obj_list: \n",
      "    print obj['name']"
     ],
     "language": "python",
     "metadata": {},
     "outputs": [
      {
       "output_type": "stream",
       "stream": "stdout",
       "text": [
        "test_object\n"
       ]
      }
     ],
     "prompt_number": 6
    },
    {
     "cell_type": "code",
     "collapsed": false,
     "input": [
      "(response, obj)=conn.get_object('test_bucket_ah', 'test_object')\n",
      "print obj"
     ],
     "language": "python",
     "metadata": {},
     "outputs": [
      {
       "output_type": "stream",
       "stream": "stdout",
       "text": [
        "Hi Swift\n"
       ]
      }
     ],
     "prompt_number": 7
    },
    {
     "cell_type": "code",
     "collapsed": false,
     "input": [],
     "language": "python",
     "metadata": {},
     "outputs": []
    }
   ],
   "metadata": {}
  }
 ]
}